{
 "cells": [
  {
   "cell_type": "markdown",
   "id": "2fe832ec",
   "metadata": {},
   "source": [
    "Q1: What is the difference between a t-test and a z-test? Provide an example scenario where you would\n",
    "use each type of test."
   ]
  },
  {
   "cell_type": "code",
   "execution_count": 1,
   "id": "b805c406",
   "metadata": {},
   "outputs": [
    {
     "data": {
      "text/plain": [
       "\"TThe main difference between Z-test and T-test that, we use z-test when we have population standard deviation\\nand sample size(n)>=30 are given.\\nExample scenario: Suppose you want to compare the average test scores of two different classes (Class A and Class B).\\nYou collect test scores from 20 students in each class. Since you don't know the population standard deviation of the scores,\\nyou would use a t-test to determine if there is a significant difference between the mean test scores of the two classes.\\n\\nt-test we use  when population standard deviation are not given and also sample mean less than 30\\nExample scenario: Imagine you want to compare the average heights of adult males in two different cities (City X and City Y). \\nYou collect height data from a random sample of 100 adult males from each city. Since you have access to the population \\nstandard deviation of male heights in both cities (perhaps from a previous large-scale study), you would use a z-test to\\ndetermine if there is a significant difference between the mean heights of males in City X and City Y.\""
      ]
     },
     "execution_count": 1,
     "metadata": {},
     "output_type": "execute_result"
    }
   ],
   "source": [
    "Ans1=\"\"\"TThe main difference between Z-test and T-test that, we use z-test when we have population standard deviation\n",
    "and sample size(n)>=30 are given.\n",
    "Example scenario: Suppose you want to compare the average test scores of two different classes (Class A and Class B).\n",
    "You collect test scores from 20 students in each class. Since you don't know the population standard deviation of the scores,\n",
    "you would use a t-test to determine if there is a significant difference between the mean test scores of the two classes.\n",
    "\n",
    "t-test we use  when population standard deviation are not given and also sample mean less than 30\n",
    "Example scenario: Imagine you want to compare the average heights of adult males in two different cities (City X and City Y). \n",
    "You collect height data from a random sample of 100 adult males from each city. Since you have access to the population \n",
    "standard deviation of male heights in both cities (perhaps from a previous large-scale study), you would use a z-test to\n",
    "determine if there is a significant difference between the mean heights of males in City X and City Y.\"\"\"\n",
    "Ans1"
   ]
  },
  {
   "cell_type": "markdown",
   "id": "b85c0141",
   "metadata": {},
   "source": [
    "Q2: Differentiate between one-tailed and two-tailed tests."
   ]
  },
  {
   "cell_type": "code",
   "execution_count": 3,
   "id": "848f62f3",
   "metadata": {},
   "outputs": [
    {
     "data": {
      "text/plain": [
       "'one-tailed tests are used when you have a specific directional hypothesis like right skewed, whereas two-tailed tests are used when you \\nwant to determine if there is a significant difference between groups without specifying the direction of the difference.'"
      ]
     },
     "execution_count": 3,
     "metadata": {},
     "output_type": "execute_result"
    }
   ],
   "source": [
    "Ans2=\"\"\"one-tailed tests are used when you have a specific directional hypothesis like right skewed, whereas two-tailed tests are used when you \n",
    "want to determine if there is a significant difference between groups without specifying the direction of the difference.\"\"\"\n",
    "Ans2"
   ]
  },
  {
   "cell_type": "markdown",
   "id": "9822ba04",
   "metadata": {},
   "source": [
    "Q3: Explain the concept of Type 1 and Type 2 errors in hypothesis testing. Provide an example scenario for\n",
    "each type of error."
   ]
  },
  {
   "cell_type": "code",
   "execution_count": 4,
   "id": "6bb5d6dd",
   "metadata": {},
   "outputs": [
    {
     "data": {
      "text/plain": [
       "\"\\nType 1 errors:we reject the null hypothesis when in reality it is true.\\n\\nExample:Example scenario: Imagine a medical test for a disease where the null hypothesis (H0) is that the person is healthy,\\nand the alternative hypothesis (H1) is that the person has the disease. Making a Type 1 error would mean diagnosing a healthy\\nperson as having the disease, leading to unnecessary treatments or stress.\\n\\nType 2 error: we reatin the null hypothesis when in reality false.\\n\\nExample scenario: Continuing with the medical test example, a Type 2 error would occur if the test incorrectly concludes that\\na person doesn't have the disease when, in fact, they do. This could lead to the person not receiving necessary treatment, \\npotentially worsening their condition.\""
      ]
     },
     "execution_count": 4,
     "metadata": {},
     "output_type": "execute_result"
    }
   ],
   "source": [
    "Ans3=\"\"\"\n",
    "Type 1 errors:we reject the null hypothesis when in reality it is true.\n",
    "\n",
    "Example:Example scenario: Imagine a medical test for a disease where the null hypothesis (H0) is that the person is healthy,\n",
    "and the alternative hypothesis (H1) is that the person has the disease. Making a Type 1 error would mean diagnosing a healthy\n",
    "person as having the disease, leading to unnecessary treatments or stress.\n",
    "\n",
    "Type 2 error: we reatin the null hypothesis when in reality false.\n",
    "\n",
    "Example scenario: Continuing with the medical test example, a Type 2 error would occur if the test incorrectly concludes that\n",
    "a person doesn't have the disease when, in fact, they do. This could lead to the person not receiving necessary treatment, \n",
    "potentially worsening their condition.\"\"\"\n",
    "Ans3"
   ]
  },
  {
   "cell_type": "markdown",
   "id": "83b7bc58",
   "metadata": {},
   "source": [
    "Q4: Explain Bayes's theorem with an example."
   ]
  },
  {
   "cell_type": "code",
   "execution_count": 9,
   "id": "df4b9696",
   "metadata": {},
   "outputs": [
    {
     "data": {
      "text/plain": [
       "\"\\nBayes's theorem is a fundamental concept in probability theory, named after the Reverend Thomas Bayes.\\nIt describes how to update the probability of a hypothesis in light of new evidence. The theorem is expressed mathematically as:\\n\\n𝑃(𝐴∣𝐵)=𝑃(𝐴).P(B∣A)/P(B)\\n \\n\\nWhere:\\nP(A∣B) is the probability of event A given event B (the posterior probability).\\n\\nP(B∣A) is the probability of event B given event A (the likelihood).\\n\\nP(A) and P(B) are the probabilities of events A and B respectively (the prior probabilities).\\n\\nExample:Suppose there's a rare disease that affects 1 in 10,000 people in a population. You have a test for this disease that \\nis 99% accurate for both detecting the disease in those who have it  and correctly identifying those who \\ndon't have it .\""
      ]
     },
     "execution_count": 9,
     "metadata": {},
     "output_type": "execute_result"
    }
   ],
   "source": [
    "Ans4=\"\"\"\n",
    "Bayes's theorem is a fundamental concept in probability theory, named after the Reverend Thomas Bayes.\n",
    "It describes how to update the probability of a hypothesis in light of new evidence. The theorem is expressed mathematically as:\n",
    "\n",
    "𝑃(𝐴∣𝐵)=𝑃(𝐴).P(B∣A)/P(B)\n",
    " \n",
    "\n",
    "Where:\n",
    "P(A∣B) is the probability of event A given event B (the posterior probability).\n",
    "\n",
    "P(B∣A) is the probability of event B given event A (the likelihood).\n",
    "\n",
    "P(A) and P(B) are the probabilities of events A and B respectively (the prior probabilities).\n",
    "\n",
    "Example:Suppose there's a rare disease that affects 1 in 10,000 people in a population. You have a test for this disease that \n",
    "is 99% accurate for both detecting the disease in those who have it  and correctly identifying those who \n",
    "don't have it .\"\"\"\n",
    "Ans4\n",
    "    "
   ]
  },
  {
   "cell_type": "markdown",
   "id": "9f62818e",
   "metadata": {},
   "source": [
    "Q5: What is a confidence interval? How to calculate the confidence interval, explain with an example."
   ]
  },
  {
   "cell_type": "code",
   "execution_count": 10,
   "id": "f2174723",
   "metadata": {},
   "outputs": [
    {
     "data": {
      "text/plain": [
       "'\\nA confidence interval is a range of values, derived from sample data, that is likely to contain the true value of a population\\nparameter with a certain level of confidence. It provides a range of plausible values for the population parameter based on the \\nsample statistic.\\n\\nCalculaton:CI=1-Standard deviation\\nExample: \\nSuppose we have a standard deviation 0.05\\nso the CI will equal to:CI=1-standar deviation\\n                           =1-0.05\\n                           CI=0.95'"
      ]
     },
     "execution_count": 10,
     "metadata": {},
     "output_type": "execute_result"
    }
   ],
   "source": [
    "Ans5=\"\"\"\n",
    "A confidence interval is a range of values, derived from sample data, that is likely to contain the true value of a population\n",
    "parameter with a certain level of confidence. It provides a range of plausible values for the population parameter based on the \n",
    "sample statistic.\n",
    "\n",
    "Calculaton:CI=1-Standard deviation\n",
    "Example: \n",
    "Suppose we have a standard deviation 0.05\n",
    "so the CI will equal to:CI=1-standar deviation\n",
    "                           =1-0.05\n",
    "                           CI=0.95\"\"\"\n",
    "Ans5"
   ]
  },
  {
   "cell_type": "markdown",
   "id": "96be5e61",
   "metadata": {},
   "source": [
    "Q6. Use Bayes' Theorem to calculate the probability of an event occurring given prior knowledge of the\n",
    "event's probability and new evidence. Provide a sample problem and solution."
   ]
  },
  {
   "cell_type": "code",
   "execution_count": 11,
   "id": "8a07c751",
   "metadata": {},
   "outputs": [
    {
     "data": {
      "text/plain": [
       "'Certainly! Let\\'s consider a classic example known as the \"Monty Hall problem, Theorem to calculate the probability of winning a car in a game show given certain conditions.\\n\\nIn the Monty Hall problem:\\n\\nThere are three doors, behind one of which is a car, and behind the other two are goats.\\nThe contestant chooses one door (let\\'s say Door 1).\\nThe host, who knows what\\'s behind each door, opens another door (not the one chosen by the contestant and not the one with the car) to reveal a goat (let\\'s say Door 2).\\nThe host then gives the contestant the option to switch their choice to the remaining unopened door (Door 3).\\nP(A∣B)= P(A).P(B∣A)/P(B)\\nP(A∣B)= (1*1/3)/(5/6)\\n     =6/15\\n     =2/5\\n     =0.4\\n'"
      ]
     },
     "execution_count": 11,
     "metadata": {},
     "output_type": "execute_result"
    }
   ],
   "source": [
    "Ans6=\"\"\"Certainly! Let's consider a classic example known as the \"Monty Hall problem, Theorem to calculate the probability of winning a car in a game show given certain conditions.\n",
    "\n",
    "In the Monty Hall problem:\n",
    "\n",
    "There are three doors, behind one of which is a car, and behind the other two are goats.\n",
    "The contestant chooses one door (let's say Door 1).\n",
    "The host, who knows what's behind each door, opens another door (not the one chosen by the contestant and not the one with the car) to reveal a goat (let's say Door 2).\n",
    "The host then gives the contestant the option to switch their choice to the remaining unopened door (Door 3).\n",
    "P(A∣B)= P(A).P(B∣A)/P(B)\n",
    "P(A∣B)= (1*1/3)/(5/6)\n",
    "     =6/15\n",
    "     =2/5\n",
    "     =0.4\n",
    "\"\"\"\n",
    "Ans6"
   ]
  },
  {
   "cell_type": "markdown",
   "id": "958d5792",
   "metadata": {},
   "source": [
    "Q7. Calculate the 95% confidence interval for a sample of data with a mean of 50 and a standard deviation\n",
    "of 5. Interpret the results."
   ]
  },
  {
   "cell_type": "code",
   "execution_count": 1,
   "id": "abe6e5df",
   "metadata": {},
   "outputs": [
    {
     "data": {
      "text/plain": [
       "'Confidence Interval=Mean±Z×( Standard Deviation/underroot(Sample Size))\\nWhere \\nZ is the critical value corresponding to the desired confidence level. For a 95% confidence level, \\nZ is typically 1.96\\nGiven:\\nMean (𝜇) = 50\\nStandard Deviation (σ) = 5\\nConfidence Level = 95%\\nAssuming a sample size (\\n𝑁\\nN) of 100 (just for demonstration purposes):\\nConfidence Interval=50±1.96×(5/√10)\\n                   =50±1.96×(5/10)\\n                   =50±1.96*(0.5)\\n                   =50+0.98\\n                   \\nSo, the 95% confidence interval is(49.02,50.98)'"
      ]
     },
     "execution_count": 1,
     "metadata": {},
     "output_type": "execute_result"
    }
   ],
   "source": [
    "Ans7=\"\"\"Confidence Interval=Mean±Z×( Standard Deviation/underroot(Sample Size))\n",
    "Where \n",
    "Z is the critical value corresponding to the desired confidence level. For a 95% confidence level, \n",
    "Z is typically 1.96\n",
    "Given:\n",
    "Mean (𝜇) = 50\n",
    "Standard Deviation (σ) = 5\n",
    "Confidence Level = 95%\n",
    "Assuming a sample size (\n",
    "𝑁\n",
    "N) of 100 (just for demonstration purposes):\n",
    "Confidence Interval=50±1.96×(5/√10)\n",
    "                   =50±1.96×(5/10)\n",
    "                   =50±1.96*(0.5)\n",
    "                   =50+0.98\n",
    "                   \n",
    "So, the 95% confidence interval is(49.02,50.98)\"\"\"\n",
    "Ans7"
   ]
  },
  {
   "cell_type": "markdown",
   "id": "9d1139ab",
   "metadata": {},
   "source": [
    "Q8. What is the margin of error in a confidence interval? How does sample size affect the margin of error?\n",
    "Provide an example of a scenario where a larger sample size would result in a smaller margin of error."
   ]
  },
  {
   "cell_type": "code",
   "execution_count": 3,
   "id": "18764553",
   "metadata": {},
   "outputs": [
    {
     "data": {
      "text/plain": [
       "\"\\nThe margin of error in a confidence interval represents the range within which the true population parameter is likely to fall.\\nIt's calculated based on the sample data and the desired level of confidence. A larger margin of error indicates greater \\nuncertainty about the population parameter, while a smaller margin indicates higher precision.\\n\\nSample size affects the margin of error inversely. Generally, larger sample sizes result in smaller margins of error, and vice \\nversa. This relationship is because as the sample size increases, the sample's variability tends to reflect the population's \\nvariability more accurately, leading to more precise estimates.\\n\\nFor example,\\nlet's consider a scenario where we want to estimate the average height of students in a university. If we take a small sample\\nof 10 students, our estimate might have a relatively large margin of error because the sample might not fully represent the\\npopulation's diversity in terms of height. However, if we increase the sample size to 100 or 1000 students, our estimate is \\nlikely to be more accurate, resulting in a smaller margin of error.\""
      ]
     },
     "execution_count": 3,
     "metadata": {},
     "output_type": "execute_result"
    }
   ],
   "source": [
    "Ans8=\"\"\"\n",
    "The margin of error in a confidence interval represents the range within which the true population parameter is likely to fall.\n",
    "It's calculated based on the sample data and the desired level of confidence. A larger margin of error indicates greater \n",
    "uncertainty about the population parameter, while a smaller margin indicates higher precision.\n",
    "\n",
    "Sample size affects the margin of error inversely. Generally, larger sample sizes result in smaller margins of error, and vice \n",
    "versa. This relationship is because as the sample size increases, the sample's variability tends to reflect the population's \n",
    "variability more accurately, leading to more precise estimates.\n",
    "\n",
    "For example,\n",
    "let's consider a scenario where we want to estimate the average height of students in a university. If we take a small sample\n",
    "of 10 students, our estimate might have a relatively large margin of error because the sample might not fully represent the\n",
    "population's diversity in terms of height. However, if we increase the sample size to 100 or 1000 students, our estimate is \n",
    "likely to be more accurate, resulting in a smaller margin of error.\"\"\"\n",
    "Ans8"
   ]
  },
  {
   "cell_type": "markdown",
   "id": "2f49abbf",
   "metadata": {},
   "source": [
    "Q9. Calculate the z-score for a data point with a value of 75, a population mean of 70, and a population\n",
    "standard deviation of 5. Interpret the results."
   ]
  },
  {
   "cell_type": "code",
   "execution_count": 4,
   "id": "d414e5b9",
   "metadata": {},
   "outputs": [
    {
     "data": {
      "text/plain": [
       "'z = (x-μ)/σ\\nx=75\\nμ=70\\nσ=5\\nZ=(75-70)/5\\nZ=5/5\\nz=1'"
      ]
     },
     "execution_count": 4,
     "metadata": {},
     "output_type": "execute_result"
    }
   ],
   "source": [
    "Ans9=\"\"\"z = (x-μ)/σ\n",
    "x=75\n",
    "μ=70\n",
    "σ=5\n",
    "Z=(75-70)/5\n",
    "Z=5/5\n",
    "z=1\"\"\"\n",
    "Ans9"
   ]
  },
  {
   "cell_type": "markdown",
   "id": "40bdbd7b",
   "metadata": {},
   "source": [
    "Q10. In a study of the effectiveness of a new weight loss drug, a sample of 50 participants lost an average\n",
    "of 6 pounds with a standard deviation of 2.5 pounds. Conduct a hypothesis test to determine if the drug is\n",
    "significantly effective at a 95% confidence level using a t-test."
   ]
  },
  {
   "cell_type": "code",
   "execution_count": 1,
   "id": "3719221c",
   "metadata": {},
   "outputs": [
    {
     "data": {
      "text/plain": [
       "\"Null Hypothesis (H0): The weight loss drug is not significantly effective.\\nAlternative Hypothesis (H1): The weight loss drug is significantly effective.\\n\\nWe'll use a t-test for a single sample to compare the mean weight loss of the participants to the population mean \\n(which is typically zero in this case since we're testing if there's any significant difference). \\nThe formula for the t-test is:  t=x̄-µ/(s/√n)\\nWhere:\\n\\n̄x is the sample mean,\\nμ is the population mean under the null hypothesis (usually 0 in this case),\\ns is the sample standard deviation, and\\nn is the sample size.\\nGiven:\\n\\nSample mean (x) = 6 pounds,\\nSample standard deviation(s) = 2.5 pounds,\\nSample size (n) = 50 participants,\\nPopulation mean (μ) = 0 (under the null hypothesis).\\nLet's calculate the t-score:\\n\\nt=6-0/(2.5/√50)\\nt=6/2.5/7.071\\nt≈6/0.889\\nt≈6.747\\nNow, we'll compare the calculated t-score to the critical t-value at a 95% confidence level with degrees of freedom\\n(n−1)\\ndof=50-1\\ndof=49\\nUsing a t-distribution table or software, we find that the critical t-value for a two-tailed test at a 95% confidence \\nlevel with 49 degrees of freedom is approximately ±2.009.\\n\\nsince|t|=6.747>2.009,we reject the null hypothesis.\\nTherefore, we can conclude that the weight loss drug is significantly effective at a 95% confidence level.\\n\\n\""
      ]
     },
     "execution_count": 1,
     "metadata": {},
     "output_type": "execute_result"
    }
   ],
   "source": [
    "Ans10=\"\"\"Null Hypothesis (H0): The weight loss drug is not significantly effective.\n",
    "Alternative Hypothesis (H1): The weight loss drug is significantly effective.\n",
    "\n",
    "We'll use a t-test for a single sample to compare the mean weight loss of the participants to the population mean \n",
    "(which is typically zero in this case since we're testing if there's any significant difference). \n",
    "The formula for the t-test is:  t=x̄-µ/(s/√n)\n",
    "Where:\n",
    "\n",
    "̄x is the sample mean,\n",
    "μ is the population mean under the null hypothesis (usually 0 in this case),\n",
    "s is the sample standard deviation, and\n",
    "n is the sample size.\n",
    "Given:\n",
    "\n",
    "Sample mean (x) = 6 pounds,\n",
    "Sample standard deviation(s) = 2.5 pounds,\n",
    "Sample size (n) = 50 participants,\n",
    "Population mean (μ) = 0 (under the null hypothesis).\n",
    "Let's calculate the t-score:\n",
    "\n",
    "t=6-0/(2.5/√50)\n",
    "t=6/2.5/7.071\n",
    "t≈6/0.889\n",
    "t≈6.747\n",
    "Now, we'll compare the calculated t-score to the critical t-value at a 95% confidence level with degrees of freedom\n",
    "(n−1)\n",
    "dof=50-1\n",
    "dof=49\n",
    "Using a t-distribution table or software, we find that the critical t-value for a two-tailed test at a 95% confidence \n",
    "level with 49 degrees of freedom is approximately ±2.009.\n",
    "\n",
    "since|t|=6.747>2.009,we reject the null hypothesis.\n",
    "Therefore, we can conclude that the weight loss drug is significantly effective at a 95% confidence level.\n",
    "\n",
    "\"\"\"\n",
    "Ans10"
   ]
  },
  {
   "cell_type": "code",
   "execution_count": null,
   "id": "d8cc0ce4",
   "metadata": {},
   "outputs": [],
   "source": []
  },
  {
   "cell_type": "markdown",
   "id": "5ffe27c3",
   "metadata": {},
   "source": [
    "Q11. In a survey of 500 people, 65% reported being satisfied with their current job. Calculate the 95%\n",
    "confidence interval for the true proportion of people who are satisfied with their job."
   ]
  },
  {
   "cell_type": "code",
   "execution_count": 2,
   "id": "4d7a536b",
   "metadata": {},
   "outputs": [
    {
     "data": {
      "text/plain": [
       "\"To calculate the 95% confidence interval for the true proportion of people who are satisfied with their job, \\nwe can use the formula for the confidence interval of a population proportion:\\nConfidence Interval= p̂±z*(p̂(1 - p̂)/n)\\nWhere:\\n\\np is the sample proportion (in decimal form),\\nz is the z-score corresponding to the desired confidence level (for 95% confidence level, z≈1.96),\\nn is the sample size.\\nGiven:\\n\\nSample proportion p=0.65\\nSample size(n)=500\\nLet's calculate the confidence interval:\\nConfidence Interval=0.65̂±1.96*0.65*(1-0.65)/500\\n                   =0.65±1.96*(0.65*0.35)/500\\n                   =0.65±1.96*0.2275/500\\n                   =0.65±1.96*0.02133\\n                   =0.65±0.04179\\n        \\nNow, calculate the interval:\\nLower bound =0.65 - 0.04179\\n            =0.60821\\n            \\nUpper bound=0.65 +0.04179\\n           =0.69179\\n           \\nSo, the 95% confidence interval for the true proportion of people who are satisfied with their job is \\napproximately 0.608 to 0.692.\\n\\n\\n\""
      ]
     },
     "execution_count": 2,
     "metadata": {},
     "output_type": "execute_result"
    }
   ],
   "source": [
    "Ans11=\"\"\"To calculate the 95% confidence interval for the true proportion of people who are satisfied with their job, \n",
    "we can use the formula for the confidence interval of a population proportion:\n",
    "Confidence Interval= p̂±z*(p̂(1 - p̂)/n)\n",
    "Where:\n",
    "\n",
    "p is the sample proportion (in decimal form),\n",
    "z is the z-score corresponding to the desired confidence level (for 95% confidence level, z≈1.96),\n",
    "n is the sample size.\n",
    "Given:\n",
    "\n",
    "Sample proportion p=0.65\n",
    "Sample size(n)=500\n",
    "Let's calculate the confidence interval:\n",
    "Confidence Interval=0.65̂±1.96*0.65*(1-0.65)/500\n",
    "                   =0.65±1.96*(0.65*0.35)/500\n",
    "                   =0.65±1.96*0.2275/500\n",
    "                   =0.65±1.96*0.02133\n",
    "                   =0.65±0.04179\n",
    "        \n",
    "Now, calculate the interval:\n",
    "Lower bound =0.65 - 0.04179\n",
    "            =0.60821\n",
    "            \n",
    "Upper bound=0.65 +0.04179\n",
    "           =0.69179\n",
    "           \n",
    "So, the 95% confidence interval for the true proportion of people who are satisfied with their job is \n",
    "approximately 0.608 to 0.692.\n",
    "\n",
    "\n",
    "\"\"\"\n",
    "Ans11"
   ]
  }
 ],
 "metadata": {
  "kernelspec": {
   "display_name": "Python 3 (ipykernel)",
   "language": "python",
   "name": "python3"
  },
  "language_info": {
   "codemirror_mode": {
    "name": "ipython",
    "version": 3
   },
   "file_extension": ".py",
   "mimetype": "text/x-python",
   "name": "python",
   "nbconvert_exporter": "python",
   "pygments_lexer": "ipython3",
   "version": "3.9.12"
  }
 },
 "nbformat": 4,
 "nbformat_minor": 5
}
